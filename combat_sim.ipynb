{
 "cells": [
  {
   "cell_type": "code",
   "execution_count": 1,
   "metadata": {
    "collapsed": true
   },
   "outputs": [],
   "source": [
    "%matplotlib inline\n",
    "\n",
    "import numpy as np\n",
    "import pandas as pd\n",
    "from sklearn.linear_model import LinearRegression\n",
    "import matplotlib.pyplot as plt\n",
    "from copy import copy"
   ]
  },
  {
   "cell_type": "code",
   "execution_count": 2,
   "metadata": {
    "collapsed": false
   },
   "outputs": [
    {
     "data": {
      "text/html": [
       "<div>\n",
       "<table border=\"1\" class=\"dataframe\">\n",
       "  <thead>\n",
       "    <tr style=\"text-align: right;\">\n",
       "      <th></th>\n",
       "      <th>Singular</th>\n",
       "      <th>Plural</th>\n",
       "      <th>Wood</th>\n",
       "      <th>Mercury</th>\n",
       "      <th>Ore</th>\n",
       "      <th>Sulfur</th>\n",
       "      <th>Crystal</th>\n",
       "      <th>Gems</th>\n",
       "      <th>Gold</th>\n",
       "      <th>Fight Value</th>\n",
       "      <th>...</th>\n",
       "      <th>Attack</th>\n",
       "      <th>Defense</th>\n",
       "      <th>MinDmg</th>\n",
       "      <th>MaxDmg</th>\n",
       "      <th>Shots</th>\n",
       "      <th>Spells</th>\n",
       "      <th>GuardsLow</th>\n",
       "      <th>GuardsHigh</th>\n",
       "      <th>Ability Text</th>\n",
       "      <th>Attributes</th>\n",
       "    </tr>\n",
       "  </thead>\n",
       "  <tbody>\n",
       "    <tr>\n",
       "      <th>0</th>\n",
       "      <td>Pikinier</td>\n",
       "      <td>Pikinierzy</td>\n",
       "      <td>0</td>\n",
       "      <td>0</td>\n",
       "      <td>0</td>\n",
       "      <td>0</td>\n",
       "      <td>0</td>\n",
       "      <td>0</td>\n",
       "      <td>60</td>\n",
       "      <td>100</td>\n",
       "      <td>...</td>\n",
       "      <td>4</td>\n",
       "      <td>5</td>\n",
       "      <td>1</td>\n",
       "      <td>3</td>\n",
       "      <td>0</td>\n",
       "      <td>0</td>\n",
       "      <td>20</td>\n",
       "      <td>50</td>\n",
       "      <td>Powstrzymuje szarżę.</td>\n",
       "      <td>0</td>\n",
       "    </tr>\n",
       "    <tr>\n",
       "      <th>1</th>\n",
       "      <td>Halabardnik</td>\n",
       "      <td>Halabardnicy</td>\n",
       "      <td>0</td>\n",
       "      <td>0</td>\n",
       "      <td>0</td>\n",
       "      <td>0</td>\n",
       "      <td>0</td>\n",
       "      <td>0</td>\n",
       "      <td>75</td>\n",
       "      <td>115</td>\n",
       "      <td>...</td>\n",
       "      <td>6</td>\n",
       "      <td>5</td>\n",
       "      <td>2</td>\n",
       "      <td>3</td>\n",
       "      <td>0</td>\n",
       "      <td>0</td>\n",
       "      <td>20</td>\n",
       "      <td>30</td>\n",
       "      <td>Powstrzymuje szarżę.</td>\n",
       "      <td>0</td>\n",
       "    </tr>\n",
       "    <tr>\n",
       "      <th>2</th>\n",
       "      <td>Łucznik</td>\n",
       "      <td>Łucznicy</td>\n",
       "      <td>0</td>\n",
       "      <td>0</td>\n",
       "      <td>0</td>\n",
       "      <td>0</td>\n",
       "      <td>0</td>\n",
       "      <td>0</td>\n",
       "      <td>100</td>\n",
       "      <td>115</td>\n",
       "      <td>...</td>\n",
       "      <td>6</td>\n",
       "      <td>3</td>\n",
       "      <td>2</td>\n",
       "      <td>3</td>\n",
       "      <td>12</td>\n",
       "      <td>0</td>\n",
       "      <td>16</td>\n",
       "      <td>30</td>\n",
       "      <td>NaN</td>\n",
       "      <td>SHOOTING_ARMY</td>\n",
       "    </tr>\n",
       "    <tr>\n",
       "      <th>3</th>\n",
       "      <td>Kusznik</td>\n",
       "      <td>Kusznicy</td>\n",
       "      <td>0</td>\n",
       "      <td>0</td>\n",
       "      <td>0</td>\n",
       "      <td>0</td>\n",
       "      <td>0</td>\n",
       "      <td>0</td>\n",
       "      <td>150</td>\n",
       "      <td>115</td>\n",
       "      <td>...</td>\n",
       "      <td>6</td>\n",
       "      <td>3</td>\n",
       "      <td>2</td>\n",
       "      <td>3</td>\n",
       "      <td>24</td>\n",
       "      <td>0</td>\n",
       "      <td>16</td>\n",
       "      <td>25</td>\n",
       "      <td>Strzela dwukrotnie.</td>\n",
       "      <td>const_two_attacks | SHOOTING_ARMY</td>\n",
       "    </tr>\n",
       "    <tr>\n",
       "      <th>4</th>\n",
       "      <td>Gryf</td>\n",
       "      <td>Gryfy</td>\n",
       "      <td>0</td>\n",
       "      <td>0</td>\n",
       "      <td>0</td>\n",
       "      <td>0</td>\n",
       "      <td>0</td>\n",
       "      <td>0</td>\n",
       "      <td>200</td>\n",
       "      <td>324</td>\n",
       "      <td>...</td>\n",
       "      <td>8</td>\n",
       "      <td>8</td>\n",
       "      <td>3</td>\n",
       "      <td>6</td>\n",
       "      <td>0</td>\n",
       "      <td>0</td>\n",
       "      <td>12</td>\n",
       "      <td>25</td>\n",
       "      <td>Dwukrotnie kontratakuje.</td>\n",
       "      <td>DOUBLE_WIDE | FLYING_ARMY</td>\n",
       "    </tr>\n",
       "  </tbody>\n",
       "</table>\n",
       "<p>5 rows × 25 columns</p>\n",
       "</div>"
      ],
      "text/plain": [
       "      Singular        Plural  Wood  Mercury  Ore  Sulfur  Crystal  Gems  Gold  \\\n",
       "0     Pikinier    Pikinierzy     0        0    0       0        0     0    60   \n",
       "1  Halabardnik  Halabardnicy     0        0    0       0        0     0    75   \n",
       "2      Łucznik      Łucznicy     0        0    0       0        0     0   100   \n",
       "3      Kusznik      Kusznicy     0        0    0       0        0     0   150   \n",
       "4         Gryf         Gryfy     0        0    0       0        0     0   200   \n",
       "\n",
       "   Fight Value                ...                  Attack  Defense  MinDmg  \\\n",
       "0          100                ...                       4        5       1   \n",
       "1          115                ...                       6        5       2   \n",
       "2          115                ...                       6        3       2   \n",
       "3          115                ...                       6        3       2   \n",
       "4          324                ...                       8        8       3   \n",
       "\n",
       "   MaxDmg  Shots  Spells  GuardsLow  GuardsHigh              Ability Text  \\\n",
       "0       3      0       0         20          50      Powstrzymuje szarżę.   \n",
       "1       3      0       0         20          30      Powstrzymuje szarżę.   \n",
       "2       3     12       0         16          30                       NaN   \n",
       "3       3     24       0         16          25       Strzela dwukrotnie.   \n",
       "4       6      0       0         12          25  Dwukrotnie kontratakuje.   \n",
       "\n",
       "                          Attributes  \n",
       "0                                  0  \n",
       "1                                  0  \n",
       "2                      SHOOTING_ARMY  \n",
       "3  const_two_attacks | SHOOTING_ARMY  \n",
       "4          DOUBLE_WIDE | FLYING_ARMY  \n",
       "\n",
       "[5 rows x 25 columns]"
      ]
     },
     "execution_count": 2,
     "metadata": {},
     "output_type": "execute_result"
    }
   ],
   "source": [
    "filename = 'CRTRAITS.TXT'\n",
    "\n",
    "data = pd.read_csv(filename, sep='\\t', encoding='utf-8')\n",
    "data.head()"
   ]
  },
  {
   "cell_type": "code",
   "execution_count": 3,
   "metadata": {
    "collapsed": false
   },
   "outputs": [
    {
     "data": {
      "text/plain": [
       "{u'',\n",
       " u'CATAPULT',\n",
       " u'DOUBLE_WIDE',\n",
       " u'FLYING_ARMY',\n",
       " u'HAS_EXTENDED_ATTACK',\n",
       " u'IMMUNE_TO_FIRE_SPELLS',\n",
       " u'IMMUNE_TO_MIND_SPELLS',\n",
       " u'IS_UNDEAD',\n",
       " u'KING_1',\n",
       " u'KING_2',\n",
       " u'KING_3',\n",
       " u'MULTI_HEADED',\n",
       " u'SHOOTING_ARMY',\n",
       " u'SIEGE_WEAPON',\n",
       " u'const_free_attack',\n",
       " u'const_jousting',\n",
       " u'const_lowers_morale',\n",
       " u'const_no_melee_penalty',\n",
       " u'const_no_wall_penalty',\n",
       " u'const_raises_morale',\n",
       " u'const_two_attacks'}"
      ]
     },
     "execution_count": 3,
     "metadata": {},
     "output_type": "execute_result"
    }
   ],
   "source": [
    "data.Attributes.fillna(u'0', inplace=True)\n",
    "data.Attributes.values[data.Attributes.values == u'0'] = ''\n",
    "set(' | '.join(data.Attributes.values).split(' | '))"
   ]
  },
  {
   "cell_type": "code",
   "execution_count": 4,
   "metadata": {
    "collapsed": true
   },
   "outputs": [],
   "source": [
    "# do wzięcia pod uwagę w symulacjach 1vs1\n",
    "keywords = {'DOUBLE_WIDE', \n",
    "            'SHOOTING_ARMY', \n",
    "            'const_free_attack', \n",
    "            'const_jousting',\n",
    "            'const_no_melee_penalty',\n",
    "            'const_two_attacks'}"
   ]
  },
  {
   "cell_type": "code",
   "execution_count": 5,
   "metadata": {
    "collapsed": true
   },
   "outputs": [],
   "source": [
    "name = ['Singular']\n",
    "crap = ['Plural', 'Wood', 'Mercury', 'Ore', 'Sulfur', 'Crystal', 'Gems', 'Gold', 'Ability Text']\n",
    "growth = ['Growth', 'Horde Growth']\n",
    "abilities = ['Attributes']\n",
    "spells = ['Spells']\n",
    "guards_quantity = ['GuardsLow', 'GuardsHigh']\n",
    "\n",
    "cols_to_drop = crap + growth + guards_quantity + spells\n",
    "data.drop(cols_to_drop, axis=1, inplace=True)"
   ]
  },
  {
   "cell_type": "code",
   "execution_count": 6,
   "metadata": {
    "collapsed": false
   },
   "outputs": [
    {
     "data": {
      "text/html": [
       "<div>\n",
       "<table border=\"1\" class=\"dataframe\">\n",
       "  <thead>\n",
       "    <tr style=\"text-align: right;\">\n",
       "      <th></th>\n",
       "      <th>Singular</th>\n",
       "      <th>Fight Value</th>\n",
       "      <th>AI Value</th>\n",
       "      <th>Hit Points</th>\n",
       "      <th>Speed</th>\n",
       "      <th>Attack</th>\n",
       "      <th>Defense</th>\n",
       "      <th>MinDmg</th>\n",
       "      <th>MaxDmg</th>\n",
       "      <th>Shots</th>\n",
       "      <th>Attributes</th>\n",
       "    </tr>\n",
       "  </thead>\n",
       "  <tbody>\n",
       "    <tr>\n",
       "      <th>0</th>\n",
       "      <td>Pikinier</td>\n",
       "      <td>100</td>\n",
       "      <td>80</td>\n",
       "      <td>10</td>\n",
       "      <td>4</td>\n",
       "      <td>4</td>\n",
       "      <td>5</td>\n",
       "      <td>1</td>\n",
       "      <td>3</td>\n",
       "      <td>0</td>\n",
       "      <td></td>\n",
       "    </tr>\n",
       "    <tr>\n",
       "      <th>1</th>\n",
       "      <td>Halabardnik</td>\n",
       "      <td>115</td>\n",
       "      <td>115</td>\n",
       "      <td>10</td>\n",
       "      <td>5</td>\n",
       "      <td>6</td>\n",
       "      <td>5</td>\n",
       "      <td>2</td>\n",
       "      <td>3</td>\n",
       "      <td>0</td>\n",
       "      <td></td>\n",
       "    </tr>\n",
       "    <tr>\n",
       "      <th>2</th>\n",
       "      <td>Łucznik</td>\n",
       "      <td>115</td>\n",
       "      <td>126</td>\n",
       "      <td>10</td>\n",
       "      <td>4</td>\n",
       "      <td>6</td>\n",
       "      <td>3</td>\n",
       "      <td>2</td>\n",
       "      <td>3</td>\n",
       "      <td>12</td>\n",
       "      <td>SHOOTING_ARMY</td>\n",
       "    </tr>\n",
       "    <tr>\n",
       "      <th>3</th>\n",
       "      <td>Kusznik</td>\n",
       "      <td>115</td>\n",
       "      <td>184</td>\n",
       "      <td>10</td>\n",
       "      <td>6</td>\n",
       "      <td>6</td>\n",
       "      <td>3</td>\n",
       "      <td>2</td>\n",
       "      <td>3</td>\n",
       "      <td>24</td>\n",
       "      <td>const_two_attacks | SHOOTING_ARMY</td>\n",
       "    </tr>\n",
       "    <tr>\n",
       "      <th>4</th>\n",
       "      <td>Gryf</td>\n",
       "      <td>324</td>\n",
       "      <td>351</td>\n",
       "      <td>25</td>\n",
       "      <td>6</td>\n",
       "      <td>8</td>\n",
       "      <td>8</td>\n",
       "      <td>3</td>\n",
       "      <td>6</td>\n",
       "      <td>0</td>\n",
       "      <td>DOUBLE_WIDE | FLYING_ARMY</td>\n",
       "    </tr>\n",
       "  </tbody>\n",
       "</table>\n",
       "</div>"
      ],
      "text/plain": [
       "      Singular  Fight Value  AI Value  Hit Points  Speed  Attack  Defense  \\\n",
       "0     Pikinier          100        80          10      4       4        5   \n",
       "1  Halabardnik          115       115          10      5       6        5   \n",
       "2      Łucznik          115       126          10      4       6        3   \n",
       "3      Kusznik          115       184          10      6       6        3   \n",
       "4         Gryf          324       351          25      6       8        8   \n",
       "\n",
       "   MinDmg  MaxDmg  Shots                         Attributes  \n",
       "0       1       3      0                                     \n",
       "1       2       3      0                                     \n",
       "2       2       3     12                      SHOOTING_ARMY  \n",
       "3       2       3     24  const_two_attacks | SHOOTING_ARMY  \n",
       "4       3       6      0          DOUBLE_WIDE | FLYING_ARMY  "
      ]
     },
     "execution_count": 6,
     "metadata": {},
     "output_type": "execute_result"
    }
   ],
   "source": [
    "data.head()"
   ]
  },
  {
   "cell_type": "code",
   "execution_count": 7,
   "metadata": {
    "collapsed": false
   },
   "outputs": [],
   "source": [
    "class unit_type(object):\n",
    "    def __init__(self, name, fightv, aiv, hp, spd, att, df, dmlow, dmhi, shots, abi):\n",
    "        self.name = name\n",
    "        self.fight_value = fightv\n",
    "        self.ai_value = aiv\n",
    "        self.hp = hp\n",
    "        self.speed = spd\n",
    "        self.attack = att\n",
    "        self.defense = df\n",
    "        self.dmg_min = dmlow\n",
    "        self.dmg_max = dmhi\n",
    "        self.shots = shots\n",
    "        self.attributes = {x for x in abi.split(' | ') if x in keywords}\n",
    "        \n",
    "class stack(object):\n",
    "    def __init__(self, unit, count):\n",
    "        self.count = count\n",
    "        self.unit = unit\n",
    "        self.hp_left = self.unit.hp\n",
    "        \n",
    "    def take_dmg(self, dmg):\n",
    "        if dmg < self.hp_left:\n",
    "            self.hp_left -= dmg\n",
    "        else:\n",
    "            dmg -= self.hp_left\n",
    "            num_killed, rem = divmod(dmg, self.unit.hp)\n",
    "            self.count -= num_killed + 1\n",
    "            self.hp_left = self.unit.hp - rem\n",
    "            self.count = max(self.count, 0)\n",
    "            \n",
    "    def attack(self, other, dmg_bonus=0., range_or_melee_penalty=False):\n",
    "        if self.count < 10:\n",
    "            base_dmg = sum(np.random.randint(self.unit.dmg_min, self.unit.dmg_max+1, \n",
    "                                             size=self.count))\n",
    "        else:\n",
    "            base_dmg = sum(np.random.randint(self.unit.dmg_min, self.unit.dmg_max+1, \n",
    "                                             size=10)) * self.count / 10\n",
    "        \n",
    "        att_to_def = self.unit.attack - other.unit.defense\n",
    "        dmg_reduction = 0.\n",
    "        if att_to_def > 0:\n",
    "            dmg_bonus += min(.05 * att_to_def, 3.)\n",
    "        else:\n",
    "            dmg_reduction = min(.025 * -att_to_def, .7)\n",
    "            \n",
    "        if self.unit.name == 'Upiorny rycerz' and np.random.rand() < .2:\n",
    "            dmg_bonus += 1.\n",
    "            \n",
    "        damage = base_dmg * (1. + dmg_bonus) * (1. - dmg_reduction)\n",
    "        if range_or_melee_penalty:\n",
    "            damage /= 2\n",
    "            \n",
    "        other.take_dmg(int(damage))"
   ]
  },
  {
   "cell_type": "code",
   "execution_count": 8,
   "metadata": {
    "collapsed": false
   },
   "outputs": [],
   "source": [
    "def make_unit(name):\n",
    "    return unit_type(*data.values[data.Singular.values == name][0])"
   ]
  },
  {
   "cell_type": "code",
   "execution_count": 9,
   "metadata": {
    "collapsed": true
   },
   "outputs": [],
   "source": [
    "def fight(stackA, stackB, num_iter):\n",
    "    wins = {stackA.unit.name : 0,\n",
    "            stackB.unit.name : 0}\n",
    "    \n",
    "    def units_order():\n",
    "        temp = sorted([copy(stackA),copy(stackB)], key=lambda x: x.unit.speed, reverse=True)\n",
    "        if stackA.unit.speed == stackB.unit.speed and np.random.rand() < .5:\n",
    "            return reversed(temp)\n",
    "        return temp\n",
    "        \n",
    "    current, other = units_order()\n",
    "    \n",
    "    print current.unit.name + ': {}'.format(current.count)\n",
    "    print other.unit.name + ': {}'.format(other.count)\n",
    "    print '----------------\\n'\n",
    "\n",
    "    for i in xrange(num_iter):\n",
    "        while current.count > 0 and other.count > 0:\n",
    "            current.attack(other)\n",
    "            if other.count > 0:\n",
    "                other.attack(current)\n",
    "            current, other = other, current\n",
    "            \n",
    "        winner = current if current.count > 0 else other\n",
    "        wins[winner.unit.name] += 1\n",
    "\n",
    "#         print winner.unit.name + ': {}'.format(winner.count)\n",
    "        current, other = units_order()\n",
    "    return wins"
   ]
  },
  {
   "cell_type": "code",
   "execution_count": 230,
   "metadata": {
    "collapsed": true
   },
   "outputs": [
    {
     "name": "stdout",
     "output_type": "stream",
     "text": [
      "Gigant: 10\n",
      "Diabeł: 11\n",
      "\n",
      "Diabeł --- atak ---> Gigant\n",
      "Diabeł <-- kontra -- Gigant\n",
      "Gigant: 8\n",
      "Diabeł: 9\n",
      "\n",
      "Gigant --- atak ---> Diabeł\n",
      "Gigant <-- kontra -- Diabeł\n",
      "Gigant: 6\n",
      "Diabeł: 7\n",
      "\n",
      "Diabeł --- atak ---> Gigant\n",
      "Diabeł <-- kontra -- Gigant\n",
      "Gigant: 4\n",
      "Diabeł: 6\n",
      "\n",
      "Gigant --- atak ---> Diabeł\n",
      "Gigant <-- kontra -- Diabeł\n",
      "Gigant: 3\n",
      "Diabeł: 4\n",
      "\n",
      "Diabeł --- atak ---> Gigant\n",
      "Diabeł <-- kontra -- Gigant\n",
      "Gigant: 2\n",
      "Diabeł: 4\n",
      "\n",
      "Gigant --- atak ---> Diabeł\n",
      "Gigant <-- kontra -- Diabeł\n",
      "Gigant: 1\n",
      "Diabeł: 3\n",
      "\n",
      "Diabeł --- atak ---> Gigant\n",
      "Gigant: 0\n",
      "Diabeł: 3\n",
      "\n"
     ]
    }
   ],
   "source": [
    "A = stack(make_unit(u'Gigant'), 10)\n",
    "B = stack(make_unit(u'Diabeł'), 11)\n",
    "\n",
    "print A.unit.name + ': {}'.format(A.count)\n",
    "print B.unit.name + ': {}\\n'.format(B.count)\n",
    "\n",
    "current, other = sorted([A,B], key=lambda x: x.unit.speed, reverse=True)\n",
    "l = max(len(A.unit.name), len(B.unit.name))\n",
    "\n",
    "while A.count > 0 and B.count > 0:\n",
    "    print current.unit.name.ljust(l) + ' --- atak ---> ' + other.unit.name\n",
    "    current.attack(other)\n",
    "    if other.count > 0:\n",
    "        print current.unit.name.ljust(l) + ' <-- kontra -- ' + other.unit.name\n",
    "        other.attack(current)\n",
    "    print A.unit.name + ': {}'.format(A.count)\n",
    "    print B.unit.name + ': {}\\n'.format(B.count)\n",
    "    current, other = other, current"
   ]
  },
  {
   "cell_type": "code",
   "execution_count": 74,
   "metadata": {
    "collapsed": false
   },
   "outputs": [
    {
     "name": "stdout",
     "output_type": "stream",
     "text": [
      "Minotaur: 94\n",
      "Pikinier: 835\n",
      "----------------\n",
      "\n"
     ]
    },
    {
     "data": {
      "text/plain": [
       "{u'Minotaur': 973, u'Pikinier': 1027}"
      ]
     },
     "execution_count": 74,
     "metadata": {},
     "output_type": "execute_result"
    }
   ],
   "source": [
    "A = stack(make_unit(u'Pikinier'), 835)\n",
    "B = stack(make_unit(u'Minotaur'), 94)\n",
    "\n",
    "result = fight(A, B, 2000)\n",
    "result"
   ]
  },
  {
   "cell_type": "code",
   "execution_count": 67,
   "metadata": {
    "collapsed": false
   },
   "outputs": [
    {
     "name": "stdout",
     "output_type": "stream",
     "text": [
      "Anioł: 128\n",
      "Pikinier: 5019\n",
      "----------------\n",
      "\n"
     ]
    },
    {
     "data": {
      "text/plain": [
       "{u'Anio\\u0142': 1083, u'Pikinier': 917}"
      ]
     },
     "execution_count": 67,
     "metadata": {},
     "output_type": "execute_result"
    }
   ],
   "source": [
    "A = stack(make_unit(u'Pikinier'), 5019)\n",
    "B = stack(make_unit(u'Anioł'), 128)\n",
    "\n",
    "result = fight(A, B, 2000)\n",
    "result"
   ]
  },
  {
   "cell_type": "code",
   "execution_count": 58,
   "metadata": {
    "collapsed": false
   },
   "outputs": [
    {
     "name": "stdout",
     "output_type": "stream",
     "text": [
      "Anioł: 1057\n",
      "Minotaur: 5019\n",
      "----------------\n",
      "\n"
     ]
    },
    {
     "data": {
      "text/plain": [
       "{u'Anio\\u0142': 1022, u'Minotaur': 978}"
      ]
     },
     "execution_count": 58,
     "metadata": {},
     "output_type": "execute_result"
    }
   ],
   "source": [
    "A = stack(make_unit(u'Anioł'), 1057)\n",
    "B = stack(make_unit(u'Minotaur'), 5019)\n",
    "\n",
    "result = fight(A, B, 2000)\n",
    "result"
   ]
  },
  {
   "cell_type": "code",
   "execution_count": null,
   "metadata": {
    "collapsed": true
   },
   "outputs": [],
   "source": []
  }
 ],
 "metadata": {
  "anaconda-cloud": {},
  "kernelspec": {
   "display_name": "Python [conda root]",
   "language": "python",
   "name": "conda-root-py"
  },
  "language_info": {
   "codemirror_mode": {
    "name": "ipython",
    "version": 2
   },
   "file_extension": ".py",
   "mimetype": "text/x-python",
   "name": "python",
   "nbconvert_exporter": "python",
   "pygments_lexer": "ipython2",
   "version": "2.7.12"
  }
 },
 "nbformat": 4,
 "nbformat_minor": 1
}
