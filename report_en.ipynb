{
 "cells": [
  {
   "cell_type": "markdown",
   "metadata": {},
   "source": [
    "### *Maciej Pawlikowski*\n",
    "# AI4Games: projekt"
   ]
  },
  {
   "cell_type": "markdown",
   "metadata": {},
   "source": [
    "Byłem członkiem grupy zajmującej się tworzeniem generatora map losowych do Heroes of Might and Magic III. Moja rola w projekcie polegała na napisaniu uproszczonej wersji silnika walki, a następnie wyznaczeniu współczynników odzwierciedlających wzajemną siłę potworków występujących w grze. Współczynniki te (prawdopodobnie) będą pomocne w \n",
    "podejmowaniu decyzji o rodzaju i liczbie stworów stawianych na planszy w procesie wypełniania mapy obiektami."
   ]
  },
  {
   "cell_type": "markdown",
   "metadata": {},
   "source": [
    "### Wartości jednostek"
   ]
  },
  {
   "cell_type": "markdown",
   "metadata": {},
   "source": [
    "Sama gra posiada wewnętrzne wartości, które wykorzystuje do szacowania siły armii. Szczególnie interesującym atrybutem jest \"AI Value\", które na pierwszy rzut oka wygląda dosyć sensownie. Niestety każdy potwór ma tylko jedno AI Value. Z tego powodu nie można na podstawie tej wartości określić jak (w stosunku do innych monstrów) poradzi sobie w walce przeciwko pewnemu ograniczonemu podzbiorowi wszystkich jednostek, na przykład przeciwko jednostkom neutralnym, albo jednostkom konkretnego poziomu.\n",
    "\n",
    "Wydaje się, że dobre oszacowanie wzajemnej siły kreatur można by uzyskać mając osobny współczynnik dla każdej *pary* jednostek. Pomogłoby to również wyznaczać względną jakość jednostek przy ograniczeniu do określonej grupy przeciwników. W tym projekcie przedstawiam propozycję takiego właśnie wartościowania."
   ]
  },
  {
   "cell_type": "markdown",
   "metadata": {},
   "source": [
    "### Metoda"
   ]
  },
  {
   "cell_type": "markdown",
   "metadata": {},
   "source": [
    "Szacowanie przeprowadzone zostało przy założeniu, że siła jednostek jest addytywna, czyli wartość armii to suma wartości pojedynczych jednostek, którę tę armię tworzą. Wydaje się to dosyć sensowne, chociaż niektóre kombinacje jednostek są wyjątkowo efektywne (na przykład Strzelcy w połączeniu z wolnymi, wytrzymałymi jednostami), więc robimy tutaj pewne uproszczenie. Założenie poprowadziło do pomysłu przeprowadzenia symulacji walk jednostek, w których po każdej stronie walczy tylko jeden oddział (oczywiście złożony z wielu takich samych potwórów). Starałem się dla każdej pary bestii znaleźć takie liczby jednostek w oddziałach, że obie strony mają mniej więcej równe szanse. Algorytm przedstawia się tak:\n",
    "   - $A$, $B \\leftarrow$ rodzaje walczących jednostek\n",
    "   - $S_A$, $S_B \\leftarrow$ oddziały z pewnymi początkowymi liczbami stworków\n",
    "   - symuluj walkę $S_A$ z $S_B$, wyznacz $S_w$, $S_l$ - wygrywający i przegrywający oddział ($\\lbrace S_A, S_B \\rbrace = \\lbrace S_w, S_l \\rbrace$)\n",
    "   - $low \\leftarrow count(S_l)$\n",
    "   - dopóki $S_l$ przegrywa z $S_w$:\n",
    "       - $low \\leftarrow count(S_l)$\n",
    "       - zwiększ $count(S_l)$ (w kodzie zwięszam o arbitralne $10 \\%$ wartości początkowej)\n",
    "   - szukaj w $(low, count(S_l))$ takiej liczby $k$ potworów w $S_l$, dla której wynik walki $S_l$ z $S_w$ jest wyrównany\n",
    "   - ustaw $count(S_l) = k$\n",
    "   - zwróć $\\frac{count(S_B)}{count(S_A)}$ (cały czas $\\lbrace S_A, S_B \\rbrace = \\lbrace S_w, S_l \\rbrace$)\n",
    "   \n",
    "W każdym miejscu, w którym pojawia się symulowana walka między oddziałami, przeprowadzam $500$ walk (liczba dobrana na oko) i zliczam wygrane każdego z oddziałów. Oddział przegrywa walkę, gdy wygrał $<250$ (mniej niż połowę) pojedynczych walk. Wynik walki uznaję za \"wyrównany\", gdy różnica między liczbami wygranych obu oddziałów jest $<25$ (czyli jego wynik to połowa $\\pm 5 \\%$).\n",
    "\n",
    "Trzeba jeszcze jakoś wyznaczyć początkowe wartości oddziałów. Skorzystałem w tym celu z AI Value. W walce $A$ z $B$ ustawiam $count(S_A) = AI\\_Value(B)$ oraz $count(S_B) = AI\\_Value(A)$.\n",
    "\n",
    "Nie przeprowadzałem symulacji walk takich samych jednostek, wtedy oczywiście współczynnik wynosi $1$."
   ]
  },
  {
   "cell_type": "markdown",
   "metadata": {},
   "source": [
    "### Walka"
   ]
  },
  {
   "cell_type": "markdown",
   "metadata": {},
   "source": [
    "*Dalej przez *strzelca* rozumiem jednostkę posiadającą atak dystansowy, a przez *piechura* taką, która go nie posiada. Tak, kawalerzysta również jest *piechurem* na potrzeby tego tekstu.*\n",
    "\n",
    "Silnik walki został znacznie uproszczony, ale w znacznej większości przypadków powinien działać identycznie (wyjątki opisane w sekcji **Zdolności specjalne**). Wyróżniam trzy podstawowe przypadki:\n",
    "\n",
    "    1) piechur - piechur\n",
    "    2) strzelec - strzelec\n",
    "    3) piechur - strzelec\n",
    "    \n",
    "**1) Piechur - piechur**\n",
    "\n",
    "Prosty przypadek, jednostki atakują się wzajemnie dopóki któraś nie padnie. Pierwszy zawsze atakuje oddział o większej szybkości, remisy rozstrzygane są losowo.\n",
    "\n",
    "**2) Strzelec - strzelec**\n",
    "\n",
    "Oddziały strzelają do siebie nawzajem dopóki któremuś nie skończą się strzały, później przypadek (3). Kolejność ataków jak w (1).\n",
    "\n",
    "**3) Piechur - strzelec**\n",
    "\n",
    "Skomplikowane. W skrócie: biorę pod uwagę dokładnie ilu strzałów z pełną skutecznością piechur może uniknąć, jeśli jest sprytny. \n",
    "\n",
    "Wersja dłuższa:\n",
    "\n",
    "    dist to odległość-1, czyli liczba pól, jakie piechur musi przejść\n",
    "    ps = szybkość piechura\n",
    "\n",
    "    jeśli piechur jest wolniejszy niż strzelec (*):\n",
    "      strzelec strzela (dist / ps + (dist % ps > 0)) razy\n",
    "\n",
    "      Piechur może uniknąć najwyżej jednego \"pełnego\" strzału. \n",
    "      Unika go wtedy, kiedy w pierwszym ruchu nie wejdzie w zasięg strzelca. \n",
    "      Optymalny pierwszy ruch to\n",
    "          (dist - dist % ps) lub ps gdy to pierwsze jest zerem.\n",
    "          \n",
    "    jeśli piechur jest szybszy (**):\n",
    "      strzelec strzela (dist / ps - (dist % ps == 0)) razy\n",
    "\n",
    "      Piechur unika dodatkowo jednego pełnego strzału (jednego jak w (*), jednego czekając w walce).\n",
    "      Czyli unika jednego lub dwóch.\n",
    "      \n",
    "    wpp:\n",
    "      Piechur nie może uniknąć strzału czekając, bo żadnej ze stron nie opłaca się czekać (czekanie zmienia \n",
    "      kolejność ruchów jednostek w następnej rundzie).\n",
    "\n",
    "      Strzelec strzela tyle razy co w (**) (jeśli zaczyna) i tyle co w (*) (jeśli nie).\n",
    "\n",
    "\n",
    "    Potem przypadek (2), piechur zaczyna.\n",
    "    \n",
    "W pseudokodzie nie widać wyraźnego podziału na rundy, bo właśnie na tym polegało uproszczenie systemu walki. Nie ma rund, tylko opisanie tych trzech przypadków w sposób równoważny i krótszy (na przykład pomijam ruch jednostek). To spowodowało pewne trudności w implementacji niektórych zdolności specjalnych działających przez pewną liczbę rund. Nie były to jednak wielkie problemy."
   ]
  },
  {
   "cell_type": "markdown",
   "metadata": {},
   "source": [
    "### Combat rules\n",
    "\n",
    "I took into account every basic combat mechanic and creature characteristic, like attack, defense, number of shots, retaliation, creature size, etc. In addition to that, I implemented most special abilities:\n",
    "\n",
    "  - no enemy retaliation\n",
    "  - no meele penalty\n",
    "  - double attack or shot\n",
    "  - rebirth (Phoenix)\n",
    "  - enemy defense reduction (Behemoth, Ancient Behemoth)\n",
    "  - death blow (Dread Knight)\n",
    "  - life drain (Vampire Lord)\n",
    "  - death stare (Mighty Gorgon)\n",
    "  - hate (e.g. Angel - Devil) and double damage (opposing Elementals)\n",
    "  - fear (Azure Dragon)\n",
    "  - regeneration (Wight, Wraith, Troll)\n",
    "  - fire shield (Efreet Sultan)\n",
    "  - acid breath (Rust Dragon)\n",
    "  - lighning strike (Thunderbird)\n",
    "  - aging (Ghost Dragon)\n",
    "  - poison (Wyvern Monarch)\n",
    "  - curse (Mummy, Black Knight, Dread Knight) (small discrepancy in duration - sometimes ends half a round too early)\n",
    "  - weakness (Dragon Fly) (same as above)\n",
    "  - disease (Zombie) (same as above)\n",
    "  - blind (Unicorn, War Unicorn)\n",
    "  - paralyzing venom (Scorpicore)\n",
    "  - petrification (all Basilisks and Medusas)\n",
    "  \n",
    "In all cases (I hope) I consider the following creatures' immunities:\n",
    "\n",
    "  - golems - less magic damage\n",
    "  - Firebird, Phoenix, Efreet, Efreet Sultan - immune to fire spells\n",
    "  - all undeads - resistances of undeads\n",
    "  - all elementals - resistances of elementals\n",
    "  - gargoyles, golems - resistances of non-living creatures\n",
    "  - Green Dragon, Red Dragon, Azure Dragon - immune to spells 1-3\n",
    "  - Gold Dragon - immune to spells 1-4\n",
    "  - Black Dragon, Magic Elemental - immune to all spells\n",
    "  - Dwarf, Battle Dwarf, Crystal Dragon - magic resistance (%)\n",
    "  - Giant, Titan - immune to mind spells\n",
    "  - Troglodytes, Infernal Troglodytes - immune to blind and petrification\n",
    "  \n",
    "Not implemented:\n",
    "\n",
    "  - Faerie Dragon's spells - a lot of work, not much payoff (very rare creature)\n",
    "  - jousting (Cavalier, Champion)\n",
    "  - strike and return (Harpy Hag)\n",
    "  - abilities that are useless in a duel\n",
    "  - everything I forgot"
   ]
  },
  {
   "cell_type": "markdown",
   "metadata": {},
   "source": [
    "### Various stuff\n",
    "\n",
    "Każda wartość zamieszczona w pliku *scores.csv* wyznacza iloraz liczebności oddziałów, przy którym wynik walki jest wyrównany. Jest tylko jeden problem: te wartości są stabilne dla dużych oddziałów. W przypadku walk kameralnych sprawa się komplikuje. Na przykład gdy pikinierzy zadadzą 700 obrażeń, to zabiją 2 Archanioły. Gdy zadzadzą 10 razy więcej, zabiją 28, czyli aż 14 razy więcej Archaniołów. Prowadzi to do tego, że 8 Archaniołów klepie bez problemu 510 Pikinierów, ale 80 Archaniołów i 5100 Pikinierów mają w miarę równe szanse. Wynika to z tego, że słabe uderzenia nie mają żadnego wpływu na zdolności bojowe jednostek (oddział atakuje słabiej dopiero, gdy przynajmniej jedna jednostka zginie). W związku z tym wyznaczone wartości będą faworyzowały jednostki wysokiego poziomu.\n",
    "\n",
    "*-*\n",
    "\n",
    "Obliczenie wszystkich wartości trwało około 5 godzin na nowoczesnym i7, bez żadnych optymalizacji, w Pythonie.\n",
    "\n",
    "*-*\n",
    "\n",
    "Mając dany pozdbiór stworków $A$ można, ze stratą informacji, wyznaczyć dla każdego potwora w grze jedną liczbę reprezentującą jego siłę w walce przeciwko $A$. Wystarczy wziąć sumę jego wspóczynników po wszystkich potworach w $A$. Po odpowiednim przeskalowaniu, tak obliczone wartości, dla $A$ będącego zbiorem wszystkich występujących w grze potworów, można bezpośrednio porównywać z AI Value. Mogą też one posłużyć jako parametry jakiegoś rozkładu prawdopodobieństwa, jeśli będziemy chcieli sensownie wylosować potworka, którego postawić na podwórku gracza.\n",
    "\n",
    "*-*\n",
    "\n",
    "Oprócz symulatora walk zrobiłem też prowizoryczny klikalny interfejs, w którym można przeglądać parametry potworków i wyniki walk oraz obliczać wartości opisane w poprzednim punkcie. Mam zamiar go jeszcze porządnie rozwinąć, ale na razie nie starczyło mi czasu.\n",
    "\n",
    "*-*\n",
    "\n",
    "Krótki Opis Ważnych Plików:\n",
    "\n",
    "    combat_sim.ipynb - notebook do eksperymentów\n",
    "    combat.py - kod walk \n",
    "    unit.py - reprezentacja jednostki i oddziału\n",
    "    scores.csv - wyniki\n",
    "    CRTRAITS.TXT - parametry potworków, zgodne z najnowszą angielską wersją\n",
    "    \n",
    "*-*\n",
    "\n",
    "Przydatne linki:\n",
    "\n",
    "http://h3.heroes.net.pl/uploaded/download/Heroes33patch.ZIP - nieoficjalny patch do polskiej wersji zawierający aktualne parametry stworów\n",
    "\n",
    "http://heroes.thelazy.net/ - obszerne źródło informacji o H3\n",
    "\n",
    "http://heroescommunity.com/viewthread.php3?TID=19321&pagenumber=2 - opis CRTRAITS.TXT\n",
    "\n",
    "http://heroescommunity.com/viewthread.php3?TID=12210&pagenumber=2 - dyskusja o tym, jak zabijają krowy"
   ]
  },
  {
   "cell_type": "code",
   "execution_count": null,
   "metadata": {},
   "outputs": [],
   "source": []
  }
 ],
 "metadata": {
  "anaconda-cloud": {},
  "kernelspec": {
   "display_name": "Python 2",
   "language": "python",
   "name": "python2"
  },
  "language_info": {
   "codemirror_mode": {
    "name": "ipython",
    "version": 2
   },
   "file_extension": ".py",
   "mimetype": "text/x-python",
   "name": "python",
   "nbconvert_exporter": "python",
   "pygments_lexer": "ipython2",
   "version": "2.7.13"
  }
 },
 "nbformat": 4,
 "nbformat_minor": 2
}
