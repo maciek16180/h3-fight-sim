{
 "cells": [
  {
   "cell_type": "markdown",
   "metadata": {},
   "source": [
    "### *Maciej Pawlikowski*\n",
    "# AI4Games: projekt"
   ]
  },
  {
   "cell_type": "markdown",
   "metadata": {},
   "source": [
    "Byłem członkiem grupy zajmującej się tworzeniem generatora map losowych do Heroes of Might and Magic III. Moja rola w projekcie polegała na napisaniu uproszczonej wersji silnika walki, a następnie wyznaczeniu współczynników odzwierciedlających wzajemną siłę potworków występujących w grze. Współczynniki te (prawdopodobnie) będą pomocne w \n",
    "podejmowaniu decyzji o rodzaju i liczbie stworów stawianych na planszy w procesie wypełniania mapy obiektami."
   ]
  },
  {
   "cell_type": "markdown",
   "metadata": {},
   "source": [
    "### Wartości jednostek"
   ]
  },
  {
   "cell_type": "markdown",
   "metadata": {},
   "source": [
    "Sama gra posiada wewnętrzne wartości, które wykorzystuje do szacowania siły armii. Szczególnie interesującym atrybutem jest \"AI Value\", które na pierwszy rzut oka wygląda dosyć sensownie. Niestety każdy potwór ma tylko jedno AI Value. Z tego powodu nie można na podstawie tej wartości określić jak (w stosunku do innych monstrów) poradzi sobie w walce przeciwko pewnemu ograniczonemu podzbiorowi wszystkich jednostek, na przykład przeciwko jednostkom neutralnym, albo jednostkom konkretnego poziomu.\n",
    "\n",
    "Wydaje się, że dobre oszacowanie wzajemnej siły kreatur można by uzyskać mając osobny współczynnik dla każdej *pary* jednostek. Pomogłoby to również wyznaczać względną jakość jednostek przy ograniczeniu do określonej grupy przeciwników. W tym projekcie przedstawiam propozycję takiego właśnie wartościowania."
   ]
  },
  {
   "cell_type": "markdown",
   "metadata": {},
   "source": [
    "### Metoda"
   ]
  },
  {
   "cell_type": "markdown",
   "metadata": {},
   "source": [
    "Szacowanie przeprowadzone zostało przy założeniu, że siła jednostek jest addytywna, czyli wartość armii to suma wartości pojedynczych jednostek, którę tę armię tworzą. Wydaje się to dosyć sensowne, chociaż niektóre kombinacje jednostek są wyjątkowo efektywne (na przykład Strzelcy w połączeniu z wolnymi, wytrzymałymi jednostami), więc robimy tutaj pewne uproszczenie. Założenie poprowadziło do pomysłu przeprowadzenia symulacji walk jednostek, w których po każdej stronie walczy tylko jeden oddział (oczywiście złożony z wielu takich samych potwórów). Starałem się dla każdej pary bestii znaleźć takie liczby jednostek w oddziałach, że obie strony mają mniej więcej równe szanse. Algorytm przedstawia się tak:\n",
    "   - $A$, $B \\leftarrow$ rodzaje walczących jednostek\n",
    "   - $S_A$, $S_B \\leftarrow$ oddziały z pewnymi początkowymi liczbami stworków\n",
    "   - symuluj walkę $S_A$ z $S_B$, wyznacz $S_w$, $S_l$ - wygrywający i przegrywający oddział ($\\lbrace S_A, S_B \\rbrace = \\lbrace S_w, S_l \\rbrace$)\n",
    "   - $low \\leftarrow count(S_l)$\n",
    "   - dopóki $S_l$ przegrywa z $S_w$:\n",
    "       - $low \\leftarrow count(S_l)$\n",
    "       - zwiększ $count(S_l)$ (w kodzie zwięszam o arbitralne $10 \\%$ wartości początkowej)\n",
    "   - szukaj w $(low, count(S_l))$ takiej liczby $k$ potworów w $S_l$, dla której wynik walki $S_l$ z $S_w$ jest wyrównany\n",
    "   - ustaw $count(S_l) = k$\n",
    "   - zwróć $\\frac{count(S_B)}{count(S_A)}$ (cały czas $\\lbrace S_A, S_B \\rbrace = \\lbrace S_w, S_l \\rbrace$)\n",
    "   \n",
    "W każdym miejscu, w którym pojawia się symulowana walka między oddziałami, przeprowadzam $500$ walk (liczba dobrana na oko) i zliczam wygrane każdego z oddziałów. Oddział przegrywa walkę, gdy wygrał $<250$ (mniej niż połowę) pojedynczych walk. Wynik walki uznaję za \"wyrównany\", gdy różnica między liczbami wygranych obu oddziałów jest $<25$ (czyli jego wynik to połowa $\\pm 5 \\%$).\n",
    "\n",
    "Trzeba jeszcze jakoś wyznaczyć początkowe wartości oddziałów. Skorzystałem w tym celu z AI Value. W walce $A$ z $B$ ustawiam $count(S_A) = AI\\_Value(B)$ oraz $count(S_B) = AI\\_Value(A)$.\n",
    "\n",
    "Nie przeprowadzałem symulacji walk takich samych jednostek, wtedy oczywiście współczynnik wynosi $1$."
   ]
  },
  {
   "cell_type": "markdown",
   "metadata": {},
   "source": [
    "### Walka"
   ]
  },
  {
   "cell_type": "markdown",
   "metadata": {},
   "source": [
    "*Dalej przez *strzelca* rozumiem jednostkę posiadającą atak dystansowy, a przez *piechura* taką, która go nie posiada. Tak, kawalerzysta również jest *piechurem* na potrzeby tego tekstu.*\n",
    "\n",
    "Silnik walki został znacznie uproszczony, ale w znacznej większości przypadków powinien działać identycznie (wyjątki opisane w sekcji **Zdolności specjalne**). Wyróżniam trzy podstawowe przypadki:\n",
    "\n",
    "    1) piechur - piechur\n",
    "    2) strzelec - strzelec\n",
    "    3) piechur - strzelec\n",
    "    \n",
    "**1) Piechur - piechur**\n",
    "\n",
    "Prosty przypadek, jednostki atakują się wzajemnie dopóki któraś nie padnie. Pierwszy zawsze atakuje oddział o większej szybkości, remisy rozstrzygane są losowo.\n",
    "\n",
    "**2) Strzelec - strzelec**\n",
    "\n",
    "Oddziały strzelają do siebie nawzajem dopóki któremuś nie skończą się strzały, później przypadek (3). Kolejność ataków jak w (1).\n",
    "\n",
    "**3) Piechur - strzelec**\n",
    "\n",
    "Skomplikowane. W skrócie: biorę pod uwagę dokładnie ilu strzałów z pełną skutecznością piechur może uniknąć, jeśli jest sprytny. \n",
    "\n",
    "Wersja dłuższa:\n",
    "\n",
    "    dist to odległość-1, czyli liczba pól, jakie piechur musi przejść\n",
    "    ps = szybkość piechura\n",
    "\n",
    "    jeśli piechur jest wolniejszy niż strzelec (*):\n",
    "      strzelec strzela (dist / ps + (dist % ps > 0)) razy\n",
    "\n",
    "      Piechur może uniknąć najwyżej jednego \"pełnego\" strzału. \n",
    "      Unika go wtedy, kiedy w pierwszym ruchu nie wejdzie w zasięg strzelca. \n",
    "      Optymalny pierwszy ruch to\n",
    "          (dist - dist % ps) lub ps gdy to pierwsze jest zerem.\n",
    "          \n",
    "    jeśli piechur jest szybszy (**):\n",
    "      strzelec strzela (dist / ps - (dist % ps == 0)) razy\n",
    "\n",
    "      Piechur unika dodatkowo jednego pełnego strzału (jednego jak w (*), jednego czekając w walce).\n",
    "      Czyli unika jednego lub dwóch.\n",
    "      \n",
    "    wpp:\n",
    "      Piechur nie może uniknąć strzału czekając, bo żadnej ze stron nie opłaca się czekać (czekanie zmienia \n",
    "      kolejność ruchów jednostek w następnej rundzie).\n",
    "\n",
    "      Strzelec strzela tyle razy co w (**) (jeśli zaczyna) i tyle co w (*) (jeśli nie).\n",
    "\n",
    "\n",
    "    Potem przypadek (2), piechur zaczyna.\n",
    "    \n",
    "W pseudokodzie nie widać wyraźnego podziału na rundy, bo właśnie na tym polegało uproszczenie systemu walki. Nie ma rund, tylko opisanie tych trzech przypadków w sposób równoważny i krótszy (na przykład pomijam ruch jednostek). To spowodowało pewne trudności w implementacji niektórych zdolności specjalnych działających przez pewną liczbę rund. Nie były to jednak wielkie problemy."
   ]
  },
  {
   "cell_type": "markdown",
   "metadata": {},
   "source": [
    "### Zdolności specjalne"
   ]
  },
  {
   "cell_type": "markdown",
   "metadata": {},
   "source": [
    "W walce są uwzględnione wszystkie podstawowe mechaniki i cechy (liczba strzałów, konkrataki, atak, obrona, wielkość jednostki itp.). Oprócz tego zaimplemetowałem większość zdolności specjalnych:\n",
    "\n",
    "  - brak kontrataku\n",
    "  - brak kar w walce wręcz lub na odległość\n",
    "  - podwójny atak lub strzał\n",
    "  - odrodzenie Feniksa\n",
    "  - obniżanie obrony Behemotów\n",
    "  - podwójne obrażenia Upiornego rycerza\n",
    "  - wyssanie życia Wampirzego lorda\n",
    "  - spojrzenie śmierci Wielkiej gorgony (informacja na heroes.thelazy.net jest błędna, gorgony używają rozkładu Bernoulliego)\n",
    "  - nienawiść (np. Anioł - Diabeł) i podwójne obrażenia żywiołaków\n",
    "  - wzbudzanie strachu Błękitnego smoka\n",
    "  - regeneracja Zjaw i Trolli\n",
    "  - tarcza ogniowa Sułtańskich ifrytów\n",
    "  - kwasowy oddech Rdzawego smoka\n",
    "  - atak błyskawicą Ptaka gromu\n",
    "  - postarzanie Upiornego smoka\n",
    "  - zatrucie Królewskiej wiwerny\n",
    "  - klątwa Mumii oraz Czarnych i Upiornych rycerzy (drobna nieścisłość w czasie trwania - czasami o pół rundy za krótko)\n",
    "  - osłabienie Smoczej ważki (j.w.)\n",
    "  \n",
    "We wszystkich (mam nadzieję) przypadkach biorę pod uwagę następujące odporności jednostek:\n",
    "\n",
    "  - golemy - zmniejszone obrażenia od magii\n",
    "  - Ognisty ptak, Feniks, Sułtański Ifryt - odporność na czary ognia\n",
    "  - jednostki Nekropolii, Mumie - jednostka nieumarła\n",
    "  - wszystkie żywiołaki - żywiołaki\n",
    "  - gargulce, golemy - jednostka nieożywiona\n",
    "  - Czerwony i Zielony smok - odporność na czary 1-3\n",
    "  - Złoty smok - odporność na czary 1-4\n",
    "  - Czarny smok - odporność na czary 1-5\n",
    "  - Krasnolud, Krasnoludzki wojownik, Kryształowy smok - odp. na magię (%)\n",
    "  - Błękitny smok - odporność na czary 1-3\n",
    "  \n",
    "Brakujące zdolności:\n",
    "\n",
    "  - zarażanie plagą Zombie - bardzo słabe, szkoda czasu\n",
    "  - czary Czarodziejskiego smoka - dużo pracy, mały efekt (bardzo rzadka jednostka)\n",
    "  - szarża Kawalerzysty i Czempiona\n",
    "  - oślepienie jednorożców\n",
    "  - powrót na miejsce harpii\n",
    "  - paraliż Chimery\n",
    "  - zamiana w kamień meduz i bazyliszków\n",
    "  - wszystkie zdolności, które są bezużyteczne w walce pojedynczych oddziałów\n",
    "  - wszystkie inne zdolności, o których zapomniałem"
   ]
  },
  {
   "cell_type": "markdown",
   "metadata": {},
   "source": [
    "### Rozmaitości"
   ]
  },
  {
   "cell_type": "markdown",
   "metadata": {},
   "source": [
    "Każda wartość zamieszczona w pliku *scores.csv* wyznacza iloraz liczebności oddziałów, przy którym wynik walki jest wyrównany. Jest tylko jeden problem: te wartości są stabilne dla dużych oddziałów. W przypadku walk kameralnych sprawa się komplikuje. Na przykład gdy pikinierzy zadadzą 700 obrażeń, to zabiją 2 Archanioły. Gdy zadzadzą 10 razy więcej, zabiją 28, czyli aż 14 razy więcej Archaniołów. Prowadzi to do tego, że 8 Archaniołów klepie bez problemu 510 Pikinierów, ale 80 Archaniołów i 5100 Pikinierów mają w miarę równe szanse. Wynika to z tego, że słabe uderzenia nie mają żadnego wpływu na zdolności bojowe jednostek (oddział atakuje słabiej dopiero, gdy przynajmniej jedna jednostka zginie). W związku z tym wyznaczone wartości będą faworyzowały jednostki wysokiego poziomu.\n",
    "\n",
    "*-*\n",
    "\n",
    "Obliczenie wszystkich wartości trwało około 5 godzin na nowoczesnym i7, bez żadnych optymalizacji, w Pythonie.\n",
    "\n",
    "*-*\n",
    "\n",
    "Mając dany pozdbiór stworków $A$ można, ze stratą informacji, wyznaczyć dla każdego potwora w grze jedną liczbę reprezentującą jego siłę w walce przeciwko $A$. Wystarczy wziąć sumę jego wspóczynników po wszystkich potworach w $A$. Po odpowiednim przeskalowaniu, tak obliczone wartości, dla $A$ będącego zbiorem wszystkich występujących w grze potworów, można bezpośrednio porównywać z AI Value. Mogą też one posłużyć jako parametry jakiegoś rozkładu prawdopodobieństwa, jeśli będziemy chcieli sensownie wylosować potworka, którego postawić na podwórku gracza.\n",
    "\n",
    "*-*\n",
    "\n",
    "Oprócz symulatora walk zrobiłem też prowizoryczny klikalny interfejs, w którym można przeglądać parametry potworków i wyniki walk oraz obliczać wartości opisane w poprzednim punkcie. Mam zamiar go jeszcze porządnie rozwinąć, ale na razie nie starczyło mi czasu.\n",
    "\n",
    "*-*\n",
    "\n",
    "Krótki Opis Ważnych Plików:\n",
    "\n",
    "    combat_sim.ipynb - notebook do eksperymentów\n",
    "    combat.py - kod walk \n",
    "    unit.py - reprezentacja jednostki i oddziału\n",
    "    scores.csv - wyniki\n",
    "    CRTRAITS.TXT - parametry potworków, zgodne z najnowszą angielską wersją\n",
    "    \n",
    "*-*\n",
    "\n",
    "Przydatne linki:\n",
    "\n",
    "http://h3.heroes.net.pl/uploaded/download/Heroes33patch.ZIP - nieoficjalny patch do polskiej wersji zawierający aktualne parametry stworów\n",
    "\n",
    "http://heroes.thelazy.net/ - obszerne źródło informacji o H3\n",
    "\n",
    "http://heroescommunity.com/viewthread.php3?TID=19321&pagenumber=2 - opis CRTRAITS.TXT\n",
    "\n",
    "http://heroescommunity.com/viewthread.php3?TID=12210&pagenumber=2 - dyskusja o tym, jak zabijają krowy"
   ]
  }
 ],
 "metadata": {
  "anaconda-cloud": {},
  "kernelspec": {
   "display_name": "Python 2",
   "language": "python",
   "name": "python2"
  },
  "language_info": {
   "codemirror_mode": {
    "name": "ipython",
    "version": 2
   },
   "file_extension": ".py",
   "mimetype": "text/x-python",
   "name": "python",
   "nbconvert_exporter": "python",
   "pygments_lexer": "ipython2",
   "version": "2.7.13"
  }
 },
 "nbformat": 4,
 "nbformat_minor": 2
}
